{
  "cells": [
    {
      "cell_type": "code",
      "execution_count": null,
      "metadata": {
        "id": "dW64wtenqohb"
      },
      "outputs": [],
      "source": [
        "import numpy as np\n",
        "import scipy as sp\n",
        "import matplotlib.pyplot as plt\n",
        "import seaborn as sns\n",
        "import pandas as pd\n",
        "from scipy import stats\n",
        "import statsmodels.api as sm\n",
        "from statsmodels.stats.anova import anova_lm\n",
        "import datetime"
      ]
    },
    {
      "cell_type": "code",
      "execution_count": null,
      "metadata": {
        "id": "W1Cr3GFZqoht"
      },
      "outputs": [],
      "source": [
        "from google.colab import files\n",
        "#uploaded = files.upload()\n",
        "\n",
        "#Считываем файл\n",
        "data = pd.read_csv(\"Consumo_cerveja.csv\", skipfooter=576, engine='python')\n",
        "#Убираем лишние строки\n",
        "data = data.drop(data.index[data['Consumo de cerveja (litros)']=='Nan'])\n",
        "\n",
        "#Сортируем по сезонам\n",
        "def season(c):\n",
        "    if int(c[5:7]) == 12 or int(c[5:7]) <= 2:\n",
        "        return 'winter'\n",
        "    elif 3 <= int(c[5:7]) <= 5:\n",
        "       return 'spring'\n",
        "    elif 6 <= int(c[5:7]) <= 8:\n",
        "        return 'summer'\n",
        "    return 'autumn'\n",
        "\n",
        "#Сортируем по концу недели\n",
        "def week_end(c):\n",
        "    if str(c)=='0':\n",
        "        return ('zero')\n",
        "    return ('one')   \n",
        "\n",
        "#Создаём новые более удобные столбцы\n",
        "data['week'] = data.apply(lambda x: week_end(x['Final de Semana']), axis = 1)\n",
        "data['season'] = data.apply(lambda x: season(x['Data']), axis = 1)\n",
        "data['litro'] = data.apply(lambda x: float(x['Consumo de cerveja (litros)']),axis = 1)\n"
      ]
    },
    {
      "cell_type": "markdown",
      "source": [
        "\n",
        "\n",
        "---\n",
        "\n",
        "\n",
        "# Гетероскедастичность\n",
        "Гетероскедастичность — это свойство данных, используемых при построении регрессионной модели, когда разброс точек наблюдений вдоль линии регрессии является неравномерным на всем диапазоне изменения независимой переменной.\n",
        "выражающийся в неодинаковой дисперсии случайной ошибки регрессионной модели. Наличие гетероскедастичности случайных ошибок приводит к неэффективности оценок, полученных с помощью метода наименьших квадратов.  Следовательно, статистические выводы о качестве полученных оценок могут быть неадекватными. В связи с этим тестирование моделей на гетероскедастичность является одной из необходимых процедур при построении регрессионных моделей.\n",
        "\n",
        "Регрессия, устройчивая к гетерокседастичности создает результаты с устойчивой матрицей по умолчанию"
      ],
      "metadata": {
        "id": "W315CSC5BWZd"
      }
    },
    {
      "cell_type": "code",
      "source": [
        "#Регрессия\n",
        "\n",
        "#Регрессия устойчивая к гетероскедастичности\n",
        "M=model = sm.OLS.from_formula('litro~ C(week)+ C(season)+ C(week):C(season)', data = data).fit().get_robustcov_results(cov_type='HC3')\n",
        "M.summary()"
      ],
      "metadata": {
        "colab": {
          "base_uri": "https://localhost:8080/",
          "height": 577
        },
        "id": "8sQp0bokA_sr",
        "outputId": "e0e48ff4-3f88-4b41-b522-cc3bc540d170"
      },
      "execution_count": null,
      "outputs": [
        {
          "output_type": "execute_result",
          "data": {
            "text/plain": [
              "<class 'statsmodels.iolib.summary.Summary'>\n",
              "\"\"\"\n",
              "                            OLS Regression Results                            \n",
              "==============================================================================\n",
              "Dep. Variable:                  litro   R-squared:                       0.370\n",
              "Model:                            OLS   Adj. R-squared:                  0.358\n",
              "Method:                 Least Squares   F-statistic:                     33.00\n",
              "Date:                Tue, 31 May 2022   Prob (F-statistic):           2.71e-35\n",
              "Time:                        08:44:03   Log-Likelihood:                -973.71\n",
              "No. Observations:                 365   AIC:                             1963.\n",
              "Df Residuals:                     357   BIC:                             1995.\n",
              "Df Model:                           7                                         \n",
              "Covariance Type:                  HC3                                         \n",
              "=======================================================================================================\n",
              "                                          coef    std err          t      P>|t|      [0.025      0.975]\n",
              "-------------------------------------------------------------------------------------------------------\n",
              "Intercept                              28.4687      0.914     31.136      0.000      26.671      30.267\n",
              "C(week)[T.zero]                        -3.1172      1.056     -2.951      0.003      -5.194      -1.040\n",
              "C(season)[T.spring]                    -0.3256      1.083     -0.301      0.764      -2.456       1.804\n",
              "C(season)[T.summer]                     0.1157      1.191      0.097      0.923      -2.227       2.458\n",
              "C(season)[T.winter]                     2.1199      1.166      1.817      0.070      -0.174       4.414\n",
              "C(week)[T.zero]:C(season)[T.spring]    -2.5377      1.256     -2.021      0.044      -5.007      -0.069\n",
              "C(week)[T.zero]:C(season)[T.summer]    -3.2164      1.361     -2.364      0.019      -5.892      -0.541\n",
              "C(week)[T.zero]:C(season)[T.winter]    -1.5424      1.348     -1.144      0.253      -4.193       1.108\n",
              "==============================================================================\n",
              "Omnibus:                        0.460   Durbin-Watson:                   1.338\n",
              "Prob(Omnibus):                  0.794   Jarque-Bera (JB):                0.574\n",
              "Skew:                           0.068   Prob(JB):                        0.751\n",
              "Kurtosis:                       2.861   Cond. No.                         16.8\n",
              "==============================================================================\n",
              "\n",
              "Warnings:\n",
              "[1] Standard Errors are heteroscedasticity robust (HC3)\n",
              "\"\"\""
            ],
            "text/html": [
              "<table class=\"simpletable\">\n",
              "<caption>OLS Regression Results</caption>\n",
              "<tr>\n",
              "  <th>Dep. Variable:</th>          <td>litro</td>      <th>  R-squared:         </th> <td>   0.370</td>\n",
              "</tr>\n",
              "<tr>\n",
              "  <th>Model:</th>                   <td>OLS</td>       <th>  Adj. R-squared:    </th> <td>   0.358</td>\n",
              "</tr>\n",
              "<tr>\n",
              "  <th>Method:</th>             <td>Least Squares</td>  <th>  F-statistic:       </th> <td>   33.00</td>\n",
              "</tr>\n",
              "<tr>\n",
              "  <th>Date:</th>             <td>Tue, 31 May 2022</td> <th>  Prob (F-statistic):</th> <td>2.71e-35</td>\n",
              "</tr>\n",
              "<tr>\n",
              "  <th>Time:</th>                 <td>08:44:03</td>     <th>  Log-Likelihood:    </th> <td> -973.71</td>\n",
              "</tr>\n",
              "<tr>\n",
              "  <th>No. Observations:</th>      <td>   365</td>      <th>  AIC:               </th> <td>   1963.</td>\n",
              "</tr>\n",
              "<tr>\n",
              "  <th>Df Residuals:</th>          <td>   357</td>      <th>  BIC:               </th> <td>   1995.</td>\n",
              "</tr>\n",
              "<tr>\n",
              "  <th>Df Model:</th>              <td>     7</td>      <th>                     </th>     <td> </td>   \n",
              "</tr>\n",
              "<tr>\n",
              "  <th>Covariance Type:</th>         <td>HC3</td>       <th>                     </th>     <td> </td>   \n",
              "</tr>\n",
              "</table>\n",
              "<table class=\"simpletable\">\n",
              "<tr>\n",
              "                   <td></td>                      <th>coef</th>     <th>std err</th>      <th>t</th>      <th>P>|t|</th>  <th>[0.025</th>    <th>0.975]</th>  \n",
              "</tr>\n",
              "<tr>\n",
              "  <th>Intercept</th>                           <td>   28.4687</td> <td>    0.914</td> <td>   31.136</td> <td> 0.000</td> <td>   26.671</td> <td>   30.267</td>\n",
              "</tr>\n",
              "<tr>\n",
              "  <th>C(week)[T.zero]</th>                     <td>   -3.1172</td> <td>    1.056</td> <td>   -2.951</td> <td> 0.003</td> <td>   -5.194</td> <td>   -1.040</td>\n",
              "</tr>\n",
              "<tr>\n",
              "  <th>C(season)[T.spring]</th>                 <td>   -0.3256</td> <td>    1.083</td> <td>   -0.301</td> <td> 0.764</td> <td>   -2.456</td> <td>    1.804</td>\n",
              "</tr>\n",
              "<tr>\n",
              "  <th>C(season)[T.summer]</th>                 <td>    0.1157</td> <td>    1.191</td> <td>    0.097</td> <td> 0.923</td> <td>   -2.227</td> <td>    2.458</td>\n",
              "</tr>\n",
              "<tr>\n",
              "  <th>C(season)[T.winter]</th>                 <td>    2.1199</td> <td>    1.166</td> <td>    1.817</td> <td> 0.070</td> <td>   -0.174</td> <td>    4.414</td>\n",
              "</tr>\n",
              "<tr>\n",
              "  <th>C(week)[T.zero]:C(season)[T.spring]</th> <td>   -2.5377</td> <td>    1.256</td> <td>   -2.021</td> <td> 0.044</td> <td>   -5.007</td> <td>   -0.069</td>\n",
              "</tr>\n",
              "<tr>\n",
              "  <th>C(week)[T.zero]:C(season)[T.summer]</th> <td>   -3.2164</td> <td>    1.361</td> <td>   -2.364</td> <td> 0.019</td> <td>   -5.892</td> <td>   -0.541</td>\n",
              "</tr>\n",
              "<tr>\n",
              "  <th>C(week)[T.zero]:C(season)[T.winter]</th> <td>   -1.5424</td> <td>    1.348</td> <td>   -1.144</td> <td> 0.253</td> <td>   -4.193</td> <td>    1.108</td>\n",
              "</tr>\n",
              "</table>\n",
              "<table class=\"simpletable\">\n",
              "<tr>\n",
              "  <th>Omnibus:</th>       <td> 0.460</td> <th>  Durbin-Watson:     </th> <td>   1.338</td>\n",
              "</tr>\n",
              "<tr>\n",
              "  <th>Prob(Omnibus):</th> <td> 0.794</td> <th>  Jarque-Bera (JB):  </th> <td>   0.574</td>\n",
              "</tr>\n",
              "<tr>\n",
              "  <th>Skew:</th>          <td> 0.068</td> <th>  Prob(JB):          </th> <td>   0.751</td>\n",
              "</tr>\n",
              "<tr>\n",
              "  <th>Kurtosis:</th>      <td> 2.861</td> <th>  Cond. No.          </th> <td>    16.8</td>\n",
              "</tr>\n",
              "</table><br/><br/>Warnings:<br/>[1] Standard Errors are heteroscedasticity robust (HC3)"
            ]
          },
          "metadata": {},
          "execution_count": 13
        }
      ]
    },
    {
      "cell_type": "code",
      "execution_count": null,
      "metadata": {
        "id": "wHjYd-52qoh3",
        "outputId": "4b18357a-adba-40f5-895a-5d0330d5f10e",
        "colab": {
          "base_uri": "https://localhost:8080/",
          "height": 279
        }
      },
      "outputs": [
        {
          "output_type": "display_data",
          "data": {
            "text/plain": [
              "<Figure size 432x288 with 1 Axes>"
            ],
            "image/png": "[encoded data removed]"
          },
          "metadata": {
            "needs_background": "light"
          }
        }
      ],
      "source": [
        "#Рисуем графики\n",
        "means = np.zeros((2,4))\n",
        "for i,week in enumerate(['zero','one']):\n",
        "    for j,season in enumerate(['winter','spring','summer','autumn']):\n",
        "    \n",
        "        means[i,j] = data[(data['week']==week)&(data['season']==season)]['litro'].mean()\n",
        "        #print(week,season,means[i,j])\n",
        "\n",
        "\n",
        "for i,week in enumerate(['zero','one']):\n",
        "\n",
        "    plt.plot(means[i],label=week,marker='o')\n",
        "\n",
        "plt.xticks([0,1,2,3],['winter','spring','summer','autumn'])\n",
        "plt.xlabel('season')\n",
        "plt.ylabel('litro')\n",
        "plt.legend()\n",
        "plt.show()"
      ]
    },
    {
      "cell_type": "code",
      "execution_count": null,
      "metadata": {
        "scrolled": false,
        "id": "JhcxlAYwqoh3",
        "outputId": "7d13051e-0387-4e74-c485-a809d09835ee",
        "colab": {
          "base_uri": "https://localhost:8080/"
        }
      },
      "outputs": [
        {
          "output_type": "stream",
          "name": "stdout",
          "text": [
            "                        sum_sq     df           F        PR(>F)\n",
            "C(week)            1951.853257    1.0  157.095581  4.073617e-30\n",
            "C(season)           802.379023    3.0   21.526584  7.737050e-13\n",
            "C(week):C(season)    80.756601    3.0    2.166574  9.164490e-02\n",
            "Residual           4435.590151  357.0         NaN           NaN\n",
            "---------------------------------------------------------------\n",
            "alpha = 0.05\n",
            "Фактор (week) отвергаем - Влияние фактора значимое\n",
            "Фактор (season) отвергаем - Влияние фактора значимое\n",
            "Фактор (week):C(season) принимаем - Факторы влияют аддитивно\n",
            "\n",
            "alpha = 0.10\n",
            "Фактор (week) отвергаем - Влияние фактора значимое\n",
            "Фактор (season) отвергаем - Влияние фактора значимое\n",
            "Фактор (week):C(season) отвергаем - Факторы взаимодействуют\n",
            "\n"
          ]
        }
      ],
      "source": [
        "#Гипотеза\n",
        "aov_table = anova_lm(M, typ=2, robust = 'hc3')\n",
        "print(aov_table)\n",
        "\n",
        "print(\"---------------------------------------------------------------\")\n",
        "def h0(c, i):\n",
        "  if float(aov_table.loc[c][3]) <= alpha and i == 1:\n",
        "    print(\"Фактор %s отвергаем - Влияние фактора значимое\"%(c[1:]))\n",
        "  elif float(aov_table.loc[c][3]) > alpha and i == 1:\n",
        "    print(\"Фактор %s принимаем - Влияния фактора нет\"%(c[1:]))\n",
        "  elif float(aov_table.loc[c][3]) <= alpha:\n",
        "    print(\"Фактор %s отвергаем - Факторы взаимодействуют\"%(c[1:]))\n",
        "  elif float(aov_table.loc[c][3]) > alpha:\n",
        "    print(\"Фактор %s принимаем - Факторы влияют аддитивно\"%(c[1:]))\n",
        "for alpha in [0.05, 0.1]:\n",
        "  print(\"alpha = %.2f\"%alpha)\n",
        "  h0('C(week)', 1)\n",
        "  h0('C(season)', 1)\n",
        "  h0('C(week):C(season)', 2)\n",
        "  print()\n"
      ]
    },
    {
      "cell_type": "code",
      "execution_count": null,
      "metadata": {
        "scrolled": true,
        "id": "PoCEMbvLqoh4",
        "outputId": "25d908d2-9aeb-46b0-dd37-26940a1168ed",
        "colab": {
          "base_uri": "https://localhost:8080/",
          "height": 541
        }
      },
      "outputs": [
        {
          "output_type": "display_data",
          "data": {
            "text/plain": [
              "<Figure size 432x288 with 1 Axes>"
            ],
            "image/png": "[encoded data removed]"
          },
          "metadata": {
            "needs_background": "light"
          }
        },
        {
          "output_type": "display_data",
          "data": {
            "text/plain": [
              "<Figure size 432x288 with 1 Axes>"
            ],
            "image/png": "[encoded data removed]"
          },
          "metadata": {
            "needs_background": "light"
          }
        }
      ],
      "source": [
        "#Еще графики\n",
        "sns.boxplot( y=data['litro'], x=data['week'] );\n",
        "plt.show()\n",
        "sns.boxplot( y=data['litro'], x=data['season'] );\n",
        "plt.show()"
      ]
    }
  ],
  "metadata": {
    "kernelspec": {
      "display_name": "Python 3",
      "language": "python",
      "name": "python3"
    },
    "language_info": {
      "codemirror_mode": {
        "name": "ipython",
        "version": 3
      },
      "file_extension": ".py",
      "mimetype": "text/x-python",
      "name": "python",
      "nbconvert_exporter": "python",
      "pygments_lexer": "ipython3",
      "version": "3.8.5"
    },
    "colab": {
      "name": "Anova.ipynb",
      "provenance": [],
      "collapsed_sections": [
        "53wbOZrycV_H"
      ]
    }
  },
  "nbformat": 4,
  "nbformat_minor": 0
}