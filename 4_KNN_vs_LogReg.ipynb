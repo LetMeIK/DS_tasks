{
  "nbformat": 4,
  "nbformat_minor": 0,
  "metadata": {
    "colab": {
      "name": "4_KNN_vs_LogReg.ipynb",
      "provenance": []
    },
    "kernelspec": {
      "name": "python3",
      "display_name": "Python 3"
    },
    "language_info": {
      "name": "python"
    }
  },
  "cells": [
    {
      "cell_type": "code",
      "execution_count": 1,
      "metadata": {
        "id": "JEPf-feVNF-6"
      },
      "outputs": [],
      "source": [
        "import numpy as np\n",
        "import scipy as sp\n",
        "import matplotlib.pyplot as plt\n",
        "import seaborn as sns\n",
        "import pandas as pd\n",
        "from scipy import stats"
      ]
    },
    {
      "cell_type": "code",
      "source": [
        "from google.colab import files\n",
        "\n",
        "#Считываем файл\n",
        "#uploaded = files.upload()\n",
        "\n",
        "#Редактируем данные для удобства\n",
        "data = pd.read_csv(\"Pistachio_Dataset.csv\", sep=';')\n",
        "data = data.replace(',', '.', regex=True)\n",
        "data.head()"
      ],
      "metadata": {
        "colab": {
          "base_uri": "https://localhost:8080/",
          "height": 206
        },
        "id": "xyOfLid3NLi_",
        "outputId": "895e6c4d-d83c-4732-9a3f-5b2ac010ce69"
      },
      "execution_count": 3,
      "outputs": [
        {
          "output_type": "execute_result",
          "data": {
            "text/plain": [
              "    AREA PERIMETER MAJOR_AXIS MINOR_AXIS ECCENTRICITY   EQDIASQ SOLIDITY  \\\n",
              "0  63391  1568.405   390.3396   236.7461       0.7951  284.0984   0.8665   \n",
              "1  68358  1942.187   410.8594   234.7525       0.8207  295.0188   0.8765   \n",
              "2  73589  1246.538    452.363   220.5547       0.8731  306.0987   0.9172   \n",
              "3  71106  1445.261   429.5291   216.0765       0.8643  300.8903   0.9589   \n",
              "4  80087  1251.524   469.3783   220.9344       0.8823  319.3273   0.9657   \n",
              "\n",
              "   CONVEX_AREA  EXTENT ASPECT_RATIO ROUNDNESS COMPACTNESS SHAPEFACTOR_1  \\\n",
              "0        73160  0.6394       1.6488    0.3238      0.7278        0.0062   \n",
              "1        77991  0.6772       1.7502    0.2277      0.7181         0.006   \n",
              "2        80234  0.7127        2.051    0.5951      0.6767        0.0061   \n",
              "3        74153  0.7028       1.9879    0.4278      0.7005         0.006   \n",
              "4        82929  0.7459       2.1245    0.6425      0.6803        0.0059   \n",
              "\n",
              "  SHAPEFACTOR_2 SHAPEFACTOR_3 SHAPEFACTOR_4              Class  \n",
              "0        0.0037        0.5297        0.8734  Kirmizi_Pistachio  \n",
              "1        0.0034        0.5156        0.9024  Kirmizi_Pistachio  \n",
              "2         0.003        0.4579        0.9391  Kirmizi_Pistachio  \n",
              "3         0.003        0.4907        0.9755  Kirmizi_Pistachio  \n",
              "4        0.0028        0.4628        0.9833  Kirmizi_Pistachio  "
            ],
            "text/html": [
              "\n",
              "  <div id=\"df-2f64052a-f9fa-4262-8bab-37ee0e99e145\">\n",
              "    <div class=\"colab-df-container\">\n",
              "      <div>\n",
              "<style scoped>\n",
              "    .dataframe tbody tr th:only-of-type {\n",
              "        vertical-align: middle;\n",
              "    }\n",
              "\n",
              "    .dataframe tbody tr th {\n",
              "        vertical-align: top;\n",
              "    }\n",
              "\n",
              "    .dataframe thead th {\n",
              "        text-align: right;\n",
              "    }\n",
              "</style>\n",
              "<table border=\"1\" class=\"dataframe\">\n",
              "  <thead>\n",
              "    <tr style=\"text-align: right;\">\n",
              "      <th></th>\n",
              "      <th>AREA</th>\n",
              "      <th>PERIMETER</th>\n",
              "      <th>MAJOR_AXIS</th>\n",
              "      <th>MINOR_AXIS</th>\n",
              "      <th>ECCENTRICITY</th>\n",
              "      <th>EQDIASQ</th>\n",
              "      <th>SOLIDITY</th>\n",
              "      <th>CONVEX_AREA</th>\n",
              "      <th>EXTENT</th>\n",
              "      <th>ASPECT_RATIO</th>\n",
              "      <th>ROUNDNESS</th>\n",
              "      <th>COMPACTNESS</th>\n",
              "      <th>SHAPEFACTOR_1</th>\n",
              "      <th>SHAPEFACTOR_2</th>\n",
              "      <th>SHAPEFACTOR_3</th>\n",
              "      <th>SHAPEFACTOR_4</th>\n",
              "      <th>Class</th>\n",
              "    </tr>\n",
              "  </thead>\n",
              "  <tbody>\n",
              "    <tr>\n",
              "      <th>0</th>\n",
              "      <td>63391</td>\n",
              "      <td>1568.405</td>\n",
              "      <td>390.3396</td>\n",
              "      <td>236.7461</td>\n",
              "      <td>0.7951</td>\n",
              "      <td>284.0984</td>\n",
              "      <td>0.8665</td>\n",
              "      <td>73160</td>\n",
              "      <td>0.6394</td>\n",
              "      <td>1.6488</td>\n",
              "      <td>0.3238</td>\n",
              "      <td>0.7278</td>\n",
              "      <td>0.0062</td>\n",
              "      <td>0.0037</td>\n",
              "      <td>0.5297</td>\n",
              "      <td>0.8734</td>\n",
              "      <td>Kirmizi_Pistachio</td>\n",
              "    </tr>\n",
              "    <tr>\n",
              "      <th>1</th>\n",
              "      <td>68358</td>\n",
              "      <td>1942.187</td>\n",
              "      <td>410.8594</td>\n",
              "      <td>234.7525</td>\n",
              "      <td>0.8207</td>\n",
              "      <td>295.0188</td>\n",
              "      <td>0.8765</td>\n",
              "      <td>77991</td>\n",
              "      <td>0.6772</td>\n",
              "      <td>1.7502</td>\n",
              "      <td>0.2277</td>\n",
              "      <td>0.7181</td>\n",
              "      <td>0.006</td>\n",
              "      <td>0.0034</td>\n",
              "      <td>0.5156</td>\n",
              "      <td>0.9024</td>\n",
              "      <td>Kirmizi_Pistachio</td>\n",
              "    </tr>\n",
              "    <tr>\n",
              "      <th>2</th>\n",
              "      <td>73589</td>\n",
              "      <td>1246.538</td>\n",
              "      <td>452.363</td>\n",
              "      <td>220.5547</td>\n",
              "      <td>0.8731</td>\n",
              "      <td>306.0987</td>\n",
              "      <td>0.9172</td>\n",
              "      <td>80234</td>\n",
              "      <td>0.7127</td>\n",
              "      <td>2.051</td>\n",
              "      <td>0.5951</td>\n",
              "      <td>0.6767</td>\n",
              "      <td>0.0061</td>\n",
              "      <td>0.003</td>\n",
              "      <td>0.4579</td>\n",
              "      <td>0.9391</td>\n",
              "      <td>Kirmizi_Pistachio</td>\n",
              "    </tr>\n",
              "    <tr>\n",
              "      <th>3</th>\n",
              "      <td>71106</td>\n",
              "      <td>1445.261</td>\n",
              "      <td>429.5291</td>\n",
              "      <td>216.0765</td>\n",
              "      <td>0.8643</td>\n",
              "      <td>300.8903</td>\n",
              "      <td>0.9589</td>\n",
              "      <td>74153</td>\n",
              "      <td>0.7028</td>\n",
              "      <td>1.9879</td>\n",
              "      <td>0.4278</td>\n",
              "      <td>0.7005</td>\n",
              "      <td>0.006</td>\n",
              "      <td>0.003</td>\n",
              "      <td>0.4907</td>\n",
              "      <td>0.9755</td>\n",
              "      <td>Kirmizi_Pistachio</td>\n",
              "    </tr>\n",
              "    <tr>\n",
              "      <th>4</th>\n",
              "      <td>80087</td>\n",
              "      <td>1251.524</td>\n",
              "      <td>469.3783</td>\n",
              "      <td>220.9344</td>\n",
              "      <td>0.8823</td>\n",
              "      <td>319.3273</td>\n",
              "      <td>0.9657</td>\n",
              "      <td>82929</td>\n",
              "      <td>0.7459</td>\n",
              "      <td>2.1245</td>\n",
              "      <td>0.6425</td>\n",
              "      <td>0.6803</td>\n",
              "      <td>0.0059</td>\n",
              "      <td>0.0028</td>\n",
              "      <td>0.4628</td>\n",
              "      <td>0.9833</td>\n",
              "      <td>Kirmizi_Pistachio</td>\n",
              "    </tr>\n",
              "  </tbody>\n",
              "</table>\n",
              "</div>\n",
              "      <button class=\"colab-df-convert\" onclick=\"convertToInteractive('df-2f64052a-f9fa-4262-8bab-37ee0e99e145')\"\n",
              "              title=\"Convert this dataframe to an interactive table.\"\n",
              "              style=\"display:none;\">\n",
              "        \n",
              "  <svg xmlns=\"http://www.w3.org/2000/svg\" height=\"24px\"viewBox=\"0 0 24 24\"\n",
              "       width=\"24px\">\n",
              "    <path d=\"M0 0h24v24H0V0z\" fill=\"none\"/>\n",
              "    <path d=\"M18.56 5.44l.94 2.06.94-2.06 2.06-.94-2.06-.94-.94-2.06-.94 2.06-2.06.94zm-11 1L8.5 8.5l.94-2.06 2.06-.94-2.06-.94L8.5 2.5l-.94 2.06-2.06.94zm10 10l.94 2.06.94-2.06 2.06-.94-2.06-.94-.94-2.06-.94 2.06-2.06.94z\"/><path d=\"M17.41 7.96l-1.37-1.37c-.4-.4-.92-.59-1.43-.59-.52 0-1.04.2-1.43.59L10.3 9.45l-7.72 7.72c-.78.78-.78 2.05 0 2.83L4 21.41c.39.39.9.59 1.41.59.51 0 1.02-.2 1.41-.59l7.78-7.78 2.81-2.81c.8-.78.8-2.07 0-2.86zM5.41 20L4 18.59l7.72-7.72 1.47 1.35L5.41 20z\"/>\n",
              "  </svg>\n",
              "      </button>\n",
              "      \n",
              "  <style>\n",
              "    .colab-df-container {\n",
              "      display:flex;\n",
              "      flex-wrap:wrap;\n",
              "      gap: 12px;\n",
              "    }\n",
              "\n",
              "    .colab-df-convert {\n",
              "      background-color: #E8F0FE;\n",
              "      border: none;\n",
              "      border-radius: 50%;\n",
              "      cursor: pointer;\n",
              "      display: none;\n",
              "      fill: #1967D2;\n",
              "      height: 32px;\n",
              "      padding: 0 0 0 0;\n",
              "      width: 32px;\n",
              "    }\n",
              "\n",
              "    .colab-df-convert:hover {\n",
              "      background-color: #E2EBFA;\n",
              "      box-shadow: 0px 1px 2px rgba(60, 64, 67, 0.3), 0px 1px 3px 1px rgba(60, 64, 67, 0.15);\n",
              "      fill: #174EA6;\n",
              "    }\n",
              "\n",
              "    [theme=dark] .colab-df-convert {\n",
              "      background-color: #3B4455;\n",
              "      fill: #D2E3FC;\n",
              "    }\n",
              "\n",
              "    [theme=dark] .colab-df-convert:hover {\n",
              "      background-color: #434B5C;\n",
              "      box-shadow: 0px 1px 3px 1px rgba(0, 0, 0, 0.15);\n",
              "      filter: drop-shadow(0px 1px 2px rgba(0, 0, 0, 0.3));\n",
              "      fill: #FFFFFF;\n",
              "    }\n",
              "  </style>\n",
              "\n",
              "      <script>\n",
              "        const buttonEl =\n",
              "          document.querySelector('#df-2f64052a-f9fa-4262-8bab-37ee0e99e145 button.colab-df-convert');\n",
              "        buttonEl.style.display =\n",
              "          google.colab.kernel.accessAllowed ? 'block' : 'none';\n",
              "\n",
              "        async function convertToInteractive(key) {\n",
              "          const element = document.querySelector('#df-2f64052a-f9fa-4262-8bab-37ee0e99e145');\n",
              "          const dataTable =\n",
              "            await google.colab.kernel.invokeFunction('convertToInteractive',\n",
              "                                                     [key], {});\n",
              "          if (!dataTable) return;\n",
              "\n",
              "          const docLinkHtml = 'Like what you see? Visit the ' +\n",
              "            '<a target=\"_blank\" href=https://colab.research.google.com/notebooks/data_table.ipynb>data table notebook</a>'\n",
              "            + ' to learn more about interactive tables.';\n",
              "          element.innerHTML = '';\n",
              "          dataTable['output_type'] = 'display_data';\n",
              "          await google.colab.output.renderOutput(dataTable, element);\n",
              "          const docLink = document.createElement('div');\n",
              "          docLink.innerHTML = docLinkHtml;\n",
              "          element.appendChild(docLink);\n",
              "        }\n",
              "      </script>\n",
              "    </div>\n",
              "  </div>\n",
              "  "
            ]
          },
          "metadata": {},
          "execution_count": 3
        }
      ]
    },
    {
      "cell_type": "markdown",
      "source": [
        "\n",
        "\n",
        "---\n",
        "\n",
        "\n",
        "# Стандартизация данных\n",
        "Для начала стандартизируем данные, чтобы корректно применить их в многомерном анализе.\n",
        "\n",
        "Значения стандартизированной шкалы определяются следующим образом:\n",
        "\n",
        "$ z_i = \\frac{x_i-\\bar{X}}{\\sigma_x}$,\n",
        "\n",
        "где $x_i$ — исходное значение признака, $\\bar{X}$ и $\\sigma_x$ — среднее значение и стандартное отклонение признака, оцененные по набору данных. В стандартизированных шкалах среднее значение величин $\\bar{Z} = 0$ , стандартное отклонение $\\sigma_x = 1$ ."
      ],
      "metadata": {
        "id": "lrI4JkgqsPWs"
      }
    },
    {
      "cell_type": "code",
      "source": [
        "#Стандартизируем данные\n",
        "from sklearn.preprocessing import StandardScaler\n",
        "\n",
        "scaler = StandardScaler()\n",
        "scaler.fit(data.drop('Class', axis=1))\n",
        "scaled_features = scaler.transform(data.drop('Class', axis=1))\n",
        "scaled_data = pd.DataFrame(scaled_features, columns = data.drop('Class', axis=1).columns)"
      ],
      "metadata": {
        "id": "1T5RefKXRw31"
      },
      "execution_count": 4,
      "outputs": []
    },
    {
      "cell_type": "markdown",
      "source": [
        "\n",
        "\n",
        "---\n",
        "\n",
        "# Разделение train-test\n",
        "\n",
        "Далее разделим нашу выборку на train и test. Для test'а выделим 30% нашей выборки."
      ],
      "metadata": {
        "id": "Ef4X3b1Lt9k_"
      }
    },
    {
      "cell_type": "code",
      "source": [
        "from sklearn.model_selection import train_test_split\n",
        "\n",
        "x = scaled_data\n",
        "y = data['Class']\n",
        "\n",
        "x_train, x_test, y_train, y_test = train_test_split(x, y, test_size = 0.25)"
      ],
      "metadata": {
        "id": "g_mGLvAlTXOr"
      },
      "execution_count": 5,
      "outputs": []
    },
    {
      "cell_type": "markdown",
      "source": [
        "\n",
        "\n",
        "---\n",
        "# Метод K ближайших соседей\n"
      ],
      "metadata": {
        "id": "Agiu95duuYOX"
      }
    },
    {
      "cell_type": "code",
      "source": [
        "from sklearn.neighbors import KNeighborsClassifier\n",
        "\n",
        "#Создадим массив значений точности метода KNN\n",
        "Accuracy_knn=[]\n",
        "\n",
        "for k in range(1, 501):\n",
        "\n",
        "  model_knn = KNeighborsClassifier(n_neighbors = k).fit(x_train, y_train)\n",
        "  #prediction_knn = model_knn.predict(x_test)\n",
        "  Accuracy_knn.append(model_knn.score(x_test, y_test))"
      ],
      "metadata": {
        "id": "wIU0O20VTvOe"
      },
      "execution_count": null,
      "outputs": []
    },
    {
      "cell_type": "code",
      "source": [
        "#Нарисуем график значений точности для каждого K\n",
        "plt.figure(figsize=(20,10))\n",
        "plt.ylabel('Accuracy')\n",
        "plt.xlabel('K')\n",
        "plt.title('Accuracy for each K')\n",
        "plt.plot(Accuracy_knn)"
      ],
      "metadata": {
        "colab": {
          "base_uri": "https://localhost:8080/",
          "height": 495
        },
        "id": "UiXtrQWVeenm",
        "outputId": "d2c257e5-1bca-47ee-cd37-abd68e35da7f"
      },
      "execution_count": null,
      "outputs": [
        {
          "output_type": "execute_result",
          "data": {
            "text/plain": [
              "[<matplotlib.lines.Line2D at 0x7f71bf61dc90>]"
            ]
          },
          "metadata": {},
          "execution_count": 7
        },
        {
          "output_type": "display_data",
          "data": {
            "text/plain": [
              "<Figure size 1440x720 with 1 Axes>"
            ],
            "image/png": "[encoded data removed]"
          },
          "metadata": {
            "needs_background": "light"
          }
        }
      ]
    },
    {
      "cell_type": "code",
      "source": [
        "#Определим K для наилучшей точности и ее значение\n",
        "k_max = np.argmax(Accuracy_knn)+1\n",
        "print(\"Наилучшая точность метода = %.2f\\nДостигается при k = %d\"%(Accuracy_knn[k_max-1], k_max))"
      ],
      "metadata": {
        "colab": {
          "base_uri": "https://localhost:8080/"
        },
        "id": "B9gk88_ghhAq",
        "outputId": "44530dee-1d09-43cb-ace9-91da9fb9b877"
      },
      "execution_count": null,
      "outputs": [
        {
          "output_type": "stream",
          "name": "stdout",
          "text": [
            "Наилучшая точность метода = 0.90\n",
            "Достигается при k = 48\n"
          ]
        }
      ]
    },
    {
      "cell_type": "markdown",
      "source": [
        "Для данных выборок train / test получили, что при $k = 9$ точность метода максимальна и $\\thickapprox 0.88$\n",
        "\n",
        "\n",
        "---\n",
        "\n",
        "# Логистическая регрессия\n",
        "\n",
        "Логистическая регрессия применяется для прогнозирования вероятности возникновения некоторого события по значениям множества признаков.\n",
        "\n",
        "$P\\{y=1|x\\} = f(z)$, где \n",
        "\n",
        "$f(z) = \\frac{1}{1+e^{-z}}$, а $z=\\theta_0+\\theta_1 x_1+...+\\theta_k x_k$.\n",
        "\n",
        "Суть метода подобрать вектор $\\theta$. Обычно он подбирается с помощью функции максимума правдоподобия\n",
        "$\\widehat{\\theta}=argmax_{\\theta}L(\\theta)$\n",
        "При классифиации на 2 группы обхект $x$ относится к группе $y=1$, если $P\\{y=1|x\\}>0.5$, и к группе $y=1$ в ином случае."
      ],
      "metadata": {
        "id": "nV6wMt-guj2e"
      }
    },
    {
      "cell_type": "code",
      "source": [
        "#Регрессия\n",
        "from sklearn.linear_model import LogisticRegression\n",
        "\n",
        "model_reg = LogisticRegression().fit(x_train, y_train)\n",
        "print(\"Точность метода = %.2f\"%model_reg.score(x_test, y_test))"
      ],
      "metadata": {
        "colab": {
          "base_uri": "https://localhost:8080/"
        },
        "id": "z0LEpGESkcVY",
        "outputId": "2196bc4e-61a1-49d5-9227-176ddc0fd2b8"
      },
      "execution_count": null,
      "outputs": [
        {
          "output_type": "stream",
          "name": "stdout",
          "text": [
            "Точность метода = 0.87\n"
          ]
        }
      ]
    },
    {
      "cell_type": "markdown",
      "source": [
        "Для данных выборок train / test получили, что точность метода *линейной регрессии* составляет $\\thickapprox0.87$, что меньше, чем у метода *9 ближайших соседей*"
      ],
      "metadata": {
        "id": "R8qSwXZYvRIn"
      }
    },
    {
      "cell_type": "markdown",
      "source": [
        "\n",
        "\n",
        "---\n",
        "\n",
        "# Вывод\n",
        "При правильно выбранном $k=9$ метод KNN оказался более точным, чем метод линейной регрессии: $0.88 > 0.87$\n",
        "\n",
        "Однако точность и результат сильно зависит от выбранного k и соотношения train / test."
      ],
      "metadata": {
        "id": "0LCAW9o1v-ak"
      }
    }
  ]
}